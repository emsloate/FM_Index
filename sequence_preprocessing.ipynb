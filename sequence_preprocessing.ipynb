{
 "cells": [
  {
   "cell_type": "code",
   "execution_count": 1,
   "metadata": {
    "collapsed": true
   },
   "outputs": [],
   "source": [
    "import glob\n",
    "import random\n",
    "import itertools"
   ]
  },
  {
   "cell_type": "code",
   "execution_count": 2,
   "metadata": {
    "collapsed": false
   },
   "outputs": [],
   "source": [
    "files = glob.glob(\"./sequences/*.txt\")"
   ]
  },
  {
   "cell_type": "code",
   "execution_count": 3,
   "metadata": {
    "collapsed": false
   },
   "outputs": [
    {
     "name": "stdout",
     "output_type": "stream",
     "text": [
      "./sequences/GCF_001633105.1_ASM163310v1_genomic.fna\n",
      "./sequences/GCF_001633105.1_ASM163310v1_genomic.txt\n",
      "./sequences/GCF_002156965.1_ASM215696v1_genomic.fna\n",
      "./sequences/GCF_002156965.1_ASM215696v1_genomic.txt\n",
      "./sequences/GCF_000008665.1_ASM866v1_genomic.fna\n",
      "./sequences/GCF_000008665.1_ASM866v1_genomic.txt\n",
      "./sequences/GCF_002214385.1_ASM221438v1_genomic.fna\n",
      "./sequences/GCF_002214385.1_ASM221438v1_genomic.txt\n",
      "./sequences/GCF_003434225.1_ASM343422v1_genomic.fna\n",
      "./sequences/GCF_003434225.1_ASM343422v1_genomic.txt\n",
      "./sequences/GCF_000092305.1_ASM9230v1_genomic.fna\n",
      "./sequences/GCF_000092305.1_ASM9230v1_genomic.txt\n",
      "./sequences/GCF_002844195.1_ASM284419v1_genomic.fna\n",
      "./sequences/GCF_002844195.1_ASM284419v1_genomic.txt\n",
      "./sequences/GCF_000800805.1_ASM80080v1_genomic.fna\n",
      "./sequences/GCF_000800805.1_ASM80080v1_genomic.txt\n"
     ]
    }
   ],
   "source": [
    "#pre=process- get rid of whitespace in files\n",
    "for file in files:\n",
    "    print(file)\n",
    "    f = open(file,\"r\")\n",
    "    lines = f.readlines()\n",
    "    f.close()\n",
    "    new_file_name = file.split(\".fna\")[0]+\".txt\"\n",
    "    print(new_file_name)\n",
    "    with open(new_file_name, 'w') as newf:\n",
    "        for line in lines:\n",
    "            newf.write(line.strip())\n",
    "    newf.close()"
   ]
  },
  {
   "cell_type": "code",
   "execution_count": 6,
   "metadata": {
    "collapsed": false
   },
   "outputs": [
    {
     "name": "stdout",
     "output_type": "stream",
     "text": [
      "./sequences/GCF_001633105.1_ASM163310v1_genomic.txt\n"
     ]
    }
   ],
   "source": [
    "files = glob.glob(\"./sequences/*.txt\")\n",
    "for file in files[2:3]:\n",
    "    print(file)\n",
    "    f = open(file,\"r\")\n",
    "    line = f.readline()\n",
    "    f.close()\n",
    "    length = random.randint(50000,80000)\n",
    "    with open(file, 'w') as newf:\n",
    "        for line in line[:length]:\n",
    "            newf.write(line.strip())\n",
    "    newf.close()"
   ]
  },
  {
   "cell_type": "code",
   "execution_count": 7,
   "metadata": {
    "collapsed": true
   },
   "outputs": [],
   "source": [
    "def generate_random_kmer():\n",
    "    kmer = \"\"\n",
    "    for i in range(10):\n",
    "        nuc = random.randint(1,4)\n",
    "        if(nuc == 1):\n",
    "            kmer += \"A\"\n",
    "        elif(nuc == 2):\n",
    "            kmer += \"C\"\n",
    "        elif(nuc == 3):\n",
    "            kmer += \"T\"\n",
    "        elif(nuc == 4):\n",
    "            kmer += \"G\"\n",
    "    return kmer"
   ]
  },
  {
   "cell_type": "code",
   "execution_count": 9,
   "metadata": {
    "collapsed": false,
    "scrolled": true
   },
   "outputs": [
    {
     "ename": "SyntaxError",
     "evalue": "invalid syntax (<ipython-input-9-99565661b208>, line 14)",
     "output_type": "error",
     "traceback": [
      "\u001b[0;36m  File \u001b[0;32m\"<ipython-input-9-99565661b208>\"\u001b[0;36m, line \u001b[0;32m14\u001b[0m\n\u001b[0;31m    if()\u001b[0m\n\u001b[0m        ^\u001b[0m\n\u001b[0;31mSyntaxError\u001b[0m\u001b[0;31m:\u001b[0m invalid syntax\n"
     ]
    }
   ],
   "source": [
    "files = glob.glob(\"./sequences/*.txt\")\n",
    "#generating real 10-mers to query for\n",
    "for file in files[2:3]:\n",
    "    f = open(file,\"r\")\n",
    "    seq = f.read()\n",
    "    seq_len = len(seq)\n",
    "    print(file)\n",
    "    queries = []\n",
    "    fake_queries = []\n",
    "    #generate <=10000 real substrings of len 10\n",
    "    for i in range(1000):\n",
    "        start = random.randint(0,seq_len-20)\n",
    "        kmer = seq[start:start+10]+\"\\n\"\n",
    "        kmers = [kmer] * 1000\n",
    "        queries.append(kmers)\n",
    "    f.close()\n",
    "    #generate <=100 random substrings of len 10, not in sequence, multiply them 100 times\n",
    "    for i in range(1000):\n",
    "        fakemer = generate_random_kmer()\n",
    "        fake_qs = []\n",
    "        if fakemer not in queries:\n",
    "            fake_qs = [fakemer+\"\\n\"] * 1000\n",
    "        fake_queries.append(fake_qs)\n",
    "    #write real queries to real file\n",
    "    queries = list(itertools.chain(*queries))\n",
    "    \n",
    "    #queries = queries[0]\n",
    "    random.shuffle(queries)\n",
    "    print(queries[:20])\n",
    "    realfile = \"./queries/\" + file.split(\"s/\")[1].split(\".txt\")[0] + \"_real.txt\"\n",
    "    with open(realfile,\"w\") as real:\n",
    "        for line in queries:\n",
    "            real.write(line)\n",
    "    real.close()\n",
    "    \n",
    "    #write random queries to fake file\n",
    "    fakefile = \"./queries/\" + file.split(\"s/\")[1].split(\".txt\")[0] + \"_fake.txt\"\n",
    "    fake_queries = list(itertools.chain(*fake_queries))\n",
    "    random.shuffle(fake_queries)\n",
    "    with open(fakefile,\"w\") as fake:\n",
    "        for line in fake_queries:\n",
    "            fake.write(line)\n",
    "    fake.close()\n",
    "    \n",
    "        \n",
    "    "
   ]
  },
  {
   "cell_type": "code",
   "execution_count": 8,
   "metadata": {
    "collapsed": false
   },
   "outputs": [
    {
     "data": {
      "text/plain": [
       "['./sequences/GCF_000008665.1_ASM866v1_genomic.txt',\n",
       " './sequences/GCF_002156965.1_ASM215696v1_genomic.txt',\n",
       " './sequences/GCF_001633105.1_ASM163310v1_genomic.txt',\n",
       " './sequences/GCF_000800805.1_ASM80080v1_genomic.txt',\n",
       " './sequences/GCF_003434225.1_ASM343422v1_genomic.txt',\n",
       " './sequences/GCF_000092305.1_ASM9230v1_genomic.txt',\n",
       " './sequences/GCF_002844195.1_ASM284419v1_genomic.txt',\n",
       " './sequences/GCF_002214385.1_ASM221438v1_genomic.txt']"
      ]
     },
     "execution_count": 8,
     "metadata": {},
     "output_type": "execute_result"
    }
   ],
   "source": [
    "glob.glob(\"./sequences/*.txt\")"
   ]
  },
  {
   "cell_type": "code",
   "execution_count": 5,
   "metadata": {
    "collapsed": false
   },
   "outputs": [
    {
     "data": {
      "text/plain": [
       "['./sequences/GCF_000008665.1_ASM866v1_genomic.txt',\n",
       " './sequences/GCF_002156965.1_ASM215696v1_genomic.txt',\n",
       " './sequences/GCF_001633105.1_ASM163310v1_genomic.txt',\n",
       " './sequences/GCF_000800805.1_ASM80080v1_genomic.txt',\n",
       " './sequences/GCF_003434225.1_ASM343422v1_genomic.txt',\n",
       " './sequences/GCF_000092305.1_ASM9230v1_genomic.txt',\n",
       " './sequences/GCF_002844195.1_ASM284419v1_genomic.txt',\n",
       " './sequences/GCF_002214385.1_ASM221438v1_genomic.txt']"
      ]
     },
     "execution_count": 5,
     "metadata": {},
     "output_type": "execute_result"
    }
   ],
   "source": [
    "files"
   ]
  },
  {
   "cell_type": "code",
   "execution_count": null,
   "metadata": {
    "collapsed": true
   },
   "outputs": [],
   "source": []
  }
 ],
 "metadata": {
  "anaconda-cloud": {},
  "kernelspec": {
   "display_name": "Python [default]",
   "language": "python",
   "name": "python3"
  },
  "language_info": {
   "codemirror_mode": {
    "name": "ipython",
    "version": 3
   },
   "file_extension": ".py",
   "mimetype": "text/x-python",
   "name": "python",
   "nbconvert_exporter": "python",
   "pygments_lexer": "ipython3",
   "version": "3.5.2"
  }
 },
 "nbformat": 4,
 "nbformat_minor": 1
}
